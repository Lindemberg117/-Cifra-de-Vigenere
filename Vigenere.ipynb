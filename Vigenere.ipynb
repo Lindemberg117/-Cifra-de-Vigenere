{
  "nbformat": 4,
  "nbformat_minor": 0,
  "metadata": {
    "colab": {
      "provenance": [],
      "authorship_tag": "ABX9TyPdJ13S3LhtV5bM7VMZxhIt",
      "include_colab_link": true
    },
    "kernelspec": {
      "name": "python3",
      "display_name": "Python 3"
    },
    "language_info": {
      "name": "python"
    }
  },
  "cells": [
    {
      "cell_type": "markdown",
      "metadata": {
        "id": "view-in-github",
        "colab_type": "text"
      },
      "source": [
        "<a href=\"https://colab.research.google.com/github/Lindemberg117/-Cifra-de-Vigenere/blob/main/Vigenere.ipynb\" target=\"_parent\"><img src=\"https://colab.research.google.com/assets/colab-badge.svg\" alt=\"Open In Colab\"/></a>"
      ]
    },
    {
      "cell_type": "code",
      "execution_count": null,
      "metadata": {
        "colab": {
          "base_uri": "https://localhost:8080/"
        },
        "id": "jleZOOaEVzE9",
        "outputId": "bd48605b-5791-4b87-e3f7-714cb97ac0f0"
      },
      "outputs": [
        {
          "output_type": "stream",
          "name": "stdout",
          "text": [
            "Digite o texto a ser cifrado: Feliz Natal\n",
            "Digite a chave de cifragem: Feliz_Ano_Novo\n",
            "Texto cifrado:  iwqY9.nH_Y\n",
            "Texto decifrado: Feliz Natal\n"
          ]
        }
      ],
      "source": [
        "ALFABETO = \"abcdefghijklmnopqrstuvwxyzABCDEFGHIJKLMNOPQRSTUVWXYZ0123456789 ,;._\"\n",
        "\n",
        "def validar_caracteres(texto):\n",
        "    for char in texto:\n",
        "        if char not in ALFABETO:\n",
        "            raise ValueError(f\"Caractere inválido encontrado: '{char}'\")\n",
        "\n",
        "\n",
        "def gerar_chave(texto, chave):\n",
        "    chave_expandida = chave * (len(texto) // len(chave)) + chave[:len(texto) % len(chave)]\n",
        "    return chave_expandida\n",
        "\n",
        "def cifra_substituicao(texto, chave, modo='cifrar'):\n",
        "    validar_caracteres(texto)\n",
        "    validar_caracteres(chave)\n",
        "    chave_expandida = gerar_chave(texto, chave)\n",
        "\n",
        "    resultado = []\n",
        "    for t, k in zip(texto, chave_expandida):\n",
        "        pos_texto = ALFABETO.index(t)\n",
        "        pos_chave = ALFABETO.index(k)\n",
        "\n",
        "        if modo == 'cifrar':\n",
        "            nova_posicao = (pos_texto + pos_chave) % len(ALFABETO)\n",
        "        elif modo == 'decifrar':\n",
        "            nova_posicao = (pos_texto - pos_chave) % len(ALFABETO)\n",
        "        else:\n",
        "            raise ValueError(\"Modo inválido. Use 'cifrar' ou 'decifrar'.\")\n",
        "\n",
        "        resultado.append(ALFABETO[nova_posicao])\n",
        "\n",
        "    return ''.join(resultado)\n",
        "\n",
        "# Exemplo de uso\n",
        "if __name__ == \"__main__\":\n",
        "    texto = input(\"Digite o texto a ser cifrado: \")\n",
        "    chave = input(\"Digite a chave de cifragem: \")\n",
        "\n",
        "    try:\n",
        "        # Cifrar\n",
        "        texto_cifrado = cifra_substituicao(texto, chave, modo='cifrar')\n",
        "        print(\"Texto cifrado:\", texto_cifrado)\n",
        "\n",
        "        # Decifrar\n",
        "        texto_decifrado = cifra_substituicao(texto_cifrado, chave, modo='decifrar')\n",
        "        print(\"Texto decifrado:\", texto_decifrado)\n",
        "\n",
        "    except ValueError as e:\n",
        "        print(\"Erro:\", e)\n"
      ]
    }
  ]
}